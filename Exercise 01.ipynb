{
 "cells": [],
 "metadata": {
  "orig_nbformat": 4,
  "kernelspec": {
   "name": "fuzzy",
   "display_name": "Python (fuzzy)",
   "language": "python"
  },
  "interpreter": {
   "hash": "b7fe8a241a9ed72e4ee94198b17f3587d7e83b46c8e224f08582fcb6f399c458"
  },
  "language_info": {
   "name": "python",
   "version": "3.9.7",
   "mimetype": "text/x-python",
   "codemirror_mode": {
    "name": "ipython",
    "version": 3
   },
   "pygments_lexer": "ipython3",
   "nbconvert_exporter": "python",
   "file_extension": ".py"
  }
 },
 "nbformat": 4,
 "nbformat_minor": 2
}